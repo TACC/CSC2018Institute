{
 "cells": [
  {
   "cell_type": "code",
   "execution_count": 1,
   "metadata": {
    "collapsed": true
   },
   "outputs": [],
   "source": [
    "# we'll need the following packages\n",
    "from dask.distributed import Client, progress\n",
    "from dask import dataframe as dd\n",
    "import datetime\n",
    "import matplotlib.pyplot as plt\n",
    "import numpy as np\n",
    "import pandas as pd\n",
    "\n",
    "# enable matplotlib to display inline\n",
    "%matplotlib inline"
   ]
  },
  {
   "cell_type": "code",
   "execution_count": 2,
   "metadata": {
    "collapsed": true
   },
   "outputs": [],
   "source": [
    "client = Client('10.10.100.15:8786')"
   ]
  },
  {
   "cell_type": "code",
   "execution_count": 3,
   "metadata": {},
   "outputs": [
    {
     "data": {
      "text/plain": [
       "<Client: scheduler='tcp://10.10.100.15:8786' processes=18 cores=18>"
      ]
     },
     "execution_count": 3,
     "metadata": {},
     "output_type": "execute_result"
    }
   ],
   "source": [
    "client"
   ]
  },
  {
   "cell_type": "code",
   "execution_count": 4,
   "metadata": {},
   "outputs": [
    {
     "data": {
      "application/vnd.jupyter.widget-view+json": {
       "model_id": "613a64cb68c54d338ac95577ecc7ef75"
      }
     },
     "metadata": {},
     "output_type": "display_data"
    }
   ],
   "source": [
    "# create the dataframe by reading in the CSV\n",
    "csv = '/root/stackoverflow.csv'\n",
    "\n",
    "# load the csv file into a dask dataframe, make suer we tell pandas to parse the data columns\n",
    "df = dd.read_csv(csv, parse_dates=['creationdate', 'acceptedAnswerCreationDate'])\n",
    "\n",
    "# use the dask client to schedule persisting the dataframes across the cluster\n",
    "df = client.persist(df)\n",
    "\n",
    "# get a neat progress bar of the persist step\n",
    "progress(df)"
   ]
  },
  {
   "cell_type": "code",
   "execution_count": 7,
   "metadata": {},
   "outputs": [
    {
     "data": {
      "text/plain": [
       "14015379"
      ]
     },
     "execution_count": 7,
     "metadata": {},
     "output_type": "execute_result"
    }
   ],
   "source": [
    "# how many records are in the data set?\n",
    "len(df)"
   ]
  },
  {
   "cell_type": "code",
   "execution_count": 9,
   "metadata": {},
   "outputs": [
    {
     "data": {
      "text/plain": [
       "Index(['Unnamed: 0', 'id', 'owneruserid', 'posttypeid', 'creationdate',\n",
       "       'CreationDayOfWeek', 'acceptedanswerid', 'score', 'answercount',\n",
       "       'viewcount', 'owneruserid.1', 'lasteditoruserid', 'lasteditdate',\n",
       "       'LastActivityDate', 'CommentCount', 'FavoriteCount', 'site',\n",
       "       'acceptedAnswerId', 'acceptedAnswerCreationDate',\n",
       "       'acceptedAnswerCreationDayOfWeek', 'acceptedAnswerScore',\n",
       "       'acceptedAnswerCommentCount', 'acceptedAnswerOwnerUserId', 'site.1'],\n",
       "      dtype='object')"
      ]
     },
     "execution_count": 9,
     "metadata": {},
     "output_type": "execute_result"
    }
   ],
   "source": [
    "# what columns are present?\n",
    "df.columns"
   ]
  },
  {
   "cell_type": "code",
   "execution_count": 16,
   "metadata": {},
   "outputs": [
    {
     "data": {
      "text/plain": [
       "0    5\n",
       "1    6\n",
       "2    7\n",
       "3    1\n",
       "4    2\n",
       "5    3\n",
       "6    4\n",
       "Name: CreationDayOfWeek, dtype: int64"
      ]
     },
     "execution_count": 16,
     "metadata": {},
     "output_type": "execute_result"
    }
   ],
   "source": [
    "# Compute the average answer count by day of the week.\n",
    "\n",
    "# first, let's explore the CreationDayOfWeek column. We can get the distinct values\n",
    "df.CreationDayOfWeek.unique().compute()"
   ]
  },
  {
   "cell_type": "code",
   "execution_count": 17,
   "metadata": {},
   "outputs": [
    {
     "data": {
      "text/plain": [
       "4    2454103\n",
       "5    2422166\n",
       "3    2399521\n",
       "2    2197994\n",
       "6    2160559\n",
       "7    1192244\n",
       "1    1188792\n",
       "Name: CreationDayOfWeek, dtype: int64"
      ]
     },
     "execution_count": 17,
     "metadata": {},
     "output_type": "execute_result"
    }
   ],
   "source": [
    "# looks like a numeric digit representing the day of the week. That's what we would expect. \n",
    "# let's get the counts\n",
    "df.CreationDayOfWeek.value_counts().compute()"
   ]
  },
  {
   "cell_type": "code",
   "execution_count": 18,
   "metadata": {},
   "outputs": [
    {
     "data": {
      "text/plain": [
       "CreationDayOfWeek\n",
       "1    1.538740\n",
       "2    1.564522\n",
       "3    1.581523\n",
       "4    1.579910\n",
       "5    1.579372\n",
       "6    1.590603\n",
       "7    1.547162\n",
       "Name: answercount, dtype: float64"
      ]
     },
     "execution_count": 18,
     "metadata": {},
     "output_type": "execute_result"
    }
   ],
   "source": [
    "# interesting. there are a lot more posts on day 4 than on days 1 and 7.\n",
    "# what about the answer count? \n",
    "df.groupby(df.CreationDayOfWeek).answercount.mean().compute()\n",
    "# perhaps not surprisingly, the answer count doesn't seem to vary much\n",
    "# as a function of the creation day of week."
   ]
  },
  {
   "cell_type": "code",
   "execution_count": 21,
   "metadata": {},
   "outputs": [
    {
     "data": {
      "text/plain": [
       "1    6794737\n",
       "2    3133269\n",
       "0    1823657\n",
       "3    1264383\n",
       "4     524415\n",
       "5     229195\n",
       "6     106536\n",
       "7      53382\n",
       "8      29411\n",
       "9      16854\n",
       "Name: answercount, dtype: int64"
      ]
     },
     "execution_count": 21,
     "metadata": {},
     "output_type": "execute_result"
    }
   ],
   "source": [
    "# break downthe questions by total number of answers they receive. what are the top 10 most likely answer counts\n",
    "# for a question?\n",
    "df.answercount.value_counts().compute().head(10)"
   ]
  },
  {
   "cell_type": "code",
   "execution_count": 22,
   "metadata": {
    "collapsed": true
   },
   "outputs": [],
   "source": [
    "# count number of rows with an accepted answer and number without\n",
    "accepted_count = len(df[(df.acceptedanswerid.notnull())])\n",
    "no_answer_count = len(df[(df.acceptedanswerid.isnull())])"
   ]
  },
  {
   "cell_type": "code",
   "execution_count": 23,
   "metadata": {},
   "outputs": [
    {
     "data": {
      "text/plain": [
       "True"
      ]
     },
     "execution_count": 23,
     "metadata": {},
     "output_type": "execute_result"
    }
   ],
   "source": [
    "# sanity check:\n",
    "accepted_count + no_answer_count == len(df)"
   ]
  },
  {
   "cell_type": "code",
   "execution_count": 24,
   "metadata": {},
   "outputs": [
    {
     "data": {
      "text/plain": [
       "0.539509848431498"
      ]
     },
     "execution_count": 24,
     "metadata": {},
     "output_type": "execute_result"
    }
   ],
   "source": [
    "# percent with an accepted answer:\n",
    "float(accepted_count)/len(df)"
   ]
  },
  {
   "cell_type": "code",
   "execution_count": 25,
   "metadata": {
    "collapsed": true
   },
   "outputs": [],
   "source": [
    "# create a new dataframe that only has the rows with an accepted answer:\n",
    "df2 = df[(df.acceptedanswerid.notnull())]"
   ]
  },
  {
   "cell_type": "code",
   "execution_count": 26,
   "metadata": {
    "collapsed": true
   },
   "outputs": [],
   "source": [
    "# Also filter out rows where the acceptedAnswerCreationDate is before the creationdate\n",
    "df3 = df[(df['acceptedAnswerCreationDate'] > df['creationdate'])]"
   ]
  },
  {
   "cell_type": "code",
   "execution_count": 27,
   "metadata": {
    "collapsed": true
   },
   "outputs": [],
   "source": [
    "# create a row that holds the time to answer, in seconds\n",
    "df2['timeToAnswer'] = df2['acceptedAnswerCreationDate'] - df2['creationdate']\n",
    "df3['timeToAnswer'] = df3['acceptedAnswerCreationDate'] - df3['creationdate']"
   ]
  },
  {
   "cell_type": "code",
   "execution_count": 28,
   "metadata": {},
   "outputs": [
    {
     "data": {
      "text/plain": [
       "0    0 days 00:35:05\n",
       "1    0 days 14:14:43\n",
       "2    3 days 17:09:06\n",
       "3    3 days 14:01:48\n",
       "4   14 days 15:44:53\n",
       "Name: timeToAnswer, dtype: timedelta64[ns]"
      ]
     },
     "execution_count": 28,
     "metadata": {},
     "output_type": "execute_result"
    }
   ],
   "source": [
    "df3.timeToAnswer.head()"
   ]
  },
  {
   "cell_type": "code",
   "execution_count": 29,
   "metadata": {
    "collapsed": true
   },
   "outputs": [],
   "source": [
    "df3['monthsToAnswer'] = (df3['timeToAnswer'] / np.timedelta64(30, 'D')).astype(int)"
   ]
  },
  {
   "cell_type": "code",
   "execution_count": 31,
   "metadata": {},
   "outputs": [
    {
     "data": {
      "text/plain": [
       "<matplotlib.axes._subplots.AxesSubplot at 0x7fc2b9e3df60>"
      ]
     },
     "execution_count": 31,
     "metadata": {},
     "output_type": "execute_result"
    },
    {
     "data": {
      "image/png": "[encoded data removed]",
      "text/plain": [
       "<matplotlib.figure.Figure at 0x7fc2b9cc32b0>"
      ]
     },
     "metadata": {},
     "output_type": "display_data"
    }
   ],
   "source": [
    "df3.groupby('monthsToAnswer').id.count().compute().plot()"
   ]
  },
  {
   "cell_type": "code",
   "execution_count": 32,
   "metadata": {
    "collapsed": true
   },
   "outputs": [],
   "source": [
    "df3['daysToAnswer'] = (df3['timeToAnswer'] / np.timedelta64(1, 'D')).astype(int)"
   ]
  },
  {
   "cell_type": "code",
   "execution_count": 33,
   "metadata": {},
   "outputs": [
    {
     "data": {
      "text/plain": [
       "<matplotlib.axes._subplots.AxesSubplot at 0x7fc2b9991240>"
      ]
     },
     "execution_count": 33,
     "metadata": {},
     "output_type": "execute_result"
    },
    {
     "data": {
      "image/png": "[encoded data removed]",
      "text/plain": [
       "<matplotlib.figure.Figure at 0x7fc2b9687a58>"
      ]
     },
     "metadata": {},
     "output_type": "display_data"
    }
   ],
   "source": [
    "df3.groupby('daysToAnswer').id.count().compute().plot()"
   ]
  },
  {
   "cell_type": "code",
   "execution_count": 34,
   "metadata": {
    "collapsed": true
   },
   "outputs": [],
   "source": [
    "df3['weeksToAnswer'] = (df3['timeToAnswer'] / np.timedelta64(7, 'D')).astype(int)"
   ]
  },
  {
   "cell_type": "code",
   "execution_count": 35,
   "metadata": {},
   "outputs": [
    {
     "data": {
      "text/plain": [
       "<matplotlib.axes._subplots.AxesSubplot at 0x7fc2b95f2400>"
      ]
     },
     "execution_count": 35,
     "metadata": {},
     "output_type": "execute_result"
    },
    {
     "data": {
      "image/png": "[encoded data removed]",
      "text/plain": [
       "<matplotlib.figure.Figure at 0x7fc2b9449f28>"
      ]
     },
     "metadata": {},
     "output_type": "display_data"
    }
   ],
   "source": [
    "df3.groupby('weeksToAnswer').id.count().compute().plot()"
   ]
  },
  {
   "cell_type": "code",
   "execution_count": 39,
   "metadata": {},
   "outputs": [
    {
     "data": {
      "text/plain": [
       "20    322099\n",
       "57    134402\n",
       "30    130099\n",
       "31    129221\n",
       "34    125146\n",
       "32    112733\n",
       "33    105887\n",
       "29    104154\n",
       "42    103306\n",
       "21     89336\n",
       "Name: weeksToAnswer, dtype: int64"
      ]
     },
     "execution_count": 39,
     "metadata": {},
     "output_type": "execute_result"
    }
   ],
   "source": [
    "# what is that spike about??\n",
    "df3['weeksToAnswer'].value_counts().head(10)"
   ]
  },
  {
   "cell_type": "code",
   "execution_count": 40,
   "metadata": {},
   "outputs": [
    {
     "data": {
      "text/plain": [
       "144    103396\n",
       "143     74023\n",
       "145     73203\n",
       "146     47911\n",
       "399     44390\n",
       "239     41825\n",
       "222     25098\n",
       "400     25029\n",
       "92      23607\n",
       "218     23549\n",
       "Name: daysToAnswer, dtype: int64"
      ]
     },
     "execution_count": 40,
     "metadata": {},
     "output_type": "execute_result"
    }
   ],
   "source": [
    "df3['daysToAnswer'].value_counts().head(10)"
   ]
  },
  {
   "cell_type": "code",
   "execution_count": null,
   "metadata": {
    "collapsed": true
   },
   "outputs": [],
   "source": []
  }
 ],
 "metadata": {
  "kernelspec": {
   "display_name": "Python 3",
   "language": "python",
   "name": "python3"
  },
  "language_info": {
   "codemirror_mode": {
    "name": "ipython",
    "version": 3
   },
   "file_extension": ".py",
   "mimetype": "text/x-python",
   "name": "python",
   "nbconvert_exporter": "python",
   "pygments_lexer": "ipython3",
   "version": "3.6.1"
  }
 },
 "nbformat": 4,
 "nbformat_minor": 2
}
